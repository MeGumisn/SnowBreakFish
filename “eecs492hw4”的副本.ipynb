{
  "cells": [
    {
      "cell_type": "markdown",
      "metadata": {
        "id": "view-in-github",
        "colab_type": "text"
      },
      "source": [
        "<a href=\"https://colab.research.google.com/github/MeGumisn/SnowBreakFish/blob/main/%E2%80%9Ceecs492hw4%E2%80%9D%E7%9A%84%E5%89%AF%E6%9C%AC.ipynb\" target=\"_parent\"><img src=\"https://colab.research.google.com/assets/colab-badge.svg\" alt=\"Open In Colab\"/></a>"
      ]
    },
    {
      "cell_type": "markdown",
      "metadata": {
        "id": "bU0eQr7jFlrs"
      },
      "source": [
        "# **EECS 492 HW4**"
      ]
    },
    {
      "cell_type": "markdown",
      "metadata": {
        "id": "1WZguXcSFreX"
      },
      "source": [
        "#**Setup**\n",
        "\n",
        "When running this cell, give this script permission so that you can mount this Colab notebook to your Google Drive.:\n"
      ]
    },
    {
      "cell_type": "code",
      "execution_count": null,
      "metadata": {
        "id": "P43zxqIzH9Dj"
      },
      "outputs": [],
      "source": [
        "from google.colab import drive\n",
        "from google.colab import runtime\n",
        "drive.mount('/content/gdrive')"
      ]
    },
    {
      "cell_type": "code",
      "execution_count": null,
      "metadata": {
        "id": "0VssZEN5KVBL"
      },
      "outputs": [],
      "source": [
        "%cd gdrive/MyDrive"
      ]
    },
    {
      "cell_type": "markdown",
      "metadata": {
        "id": "ac_CX6BqF15q"
      },
      "source": [
        "Clone the EECS 492 Git Repository so that we can grab the necessary files to work with! To see where this is in our Google Colab directory, click the folder icon on the left side of the notebook."
      ]
    },
    {
      "cell_type": "code",
      "execution_count": null,
      "metadata": {
        "id": "LxUfamwAF_Zr"
      },
      "outputs": [],
      "source": [
        "!git clone https://github.com/bryboy123/eecs492hw4.git"
      ]
    },
    {
      "cell_type": "code",
      "execution_count": null,
      "metadata": {
        "id": "cYcFPIgQdQ_T"
      },
      "outputs": [],
      "source": [
        "%cd eecs492hw4"
      ]
    },
    {
      "cell_type": "markdown",
      "metadata": {
        "id": "_ItqOwsEK8tP"
      },
      "source": [
        "\n",
        "Run the following code to import the modules you'll need."
      ]
    },
    {
      "cell_type": "code",
      "execution_count": null,
      "metadata": {
        "colab": {
          "background_save": true
        },
        "id": "gWV90o5drWOR"
      },
      "outputs": [],
      "source": [
        "!pip3 install -r requirements.txt"
      ]
    },
    {
      "cell_type": "markdown",
      "metadata": {
        "id": "ODs-LduYJJru"
      },
      "source": [
        "This cell will load all the necessary libraries for our code."
      ]
    },
    {
      "cell_type": "code",
      "execution_count": null,
      "metadata": {
        "id": "XzSFkicqGEs-"
      },
      "outputs": [],
      "source": [
        "import logging\n",
        "\n",
        "import coloredlogs\n",
        "import math\n",
        "import queue\n",
        "import torch\n",
        "import random\n",
        "import os\n",
        "import sys\n",
        "import numpy as np\n",
        "\n",
        "from othello.OthelloGame import OthelloGame as Game\n",
        "from othello.pytorch.NNet import NNetWrapper as nn\n",
        "from utils import *\n",
        "from collections import deque\n",
        "from pickle import Pickler, Unpickler\n",
        "from random import shuffle\n",
        "\n",
        "from tqdm import tqdm\n",
        "\n",
        "from Arena import Arena\n",
        "\n",
        "from IPython.display import clear_output\n",
        "import time"
      ]
    },
    {
      "cell_type": "markdown",
      "metadata": {
        "id": "TylsgtqcfACQ"
      },
      "source": [
        "Code for MCTS.py (only edit this block, all others should stay the same). Note that this will not run properly until you have fixed all the TODO sections. Once your solution matches instructor solution below, copy your code here and save it as MCTS.py and submit to Gradescope."
      ]
    },
    {
      "cell_type": "code",
      "execution_count": null,
      "metadata": {
        "id": "VTpDZUryfEKI"
      },
      "outputs": [],
      "source": [
        "import logging\n",
        "import math\n",
        "import queue\n",
        "\n",
        "import numpy as np\n",
        "\n",
        "EPS = 1e-8\n",
        "\n",
        "log = logging.getLogger(__name__)\n",
        "\n",
        "\n",
        "class MCTS():\n",
        "    \"\"\"\n",
        "    This class handles the MCTS tree.\n",
        "    \"\"\"\n",
        "\n",
        "    def __init__(self, game, nnet, args):\n",
        "        self.game = game\n",
        "        self.nnet = nnet\n",
        "        self.args = args\n",
        "        self.Vs = {}\n",
        "\n",
        "        self.Qsa = {}\n",
        "        self.Nsa = {}\n",
        "        self.Ps = {}\n",
        "        self.Ns = {}\n",
        "\n",
        "        # this is the only member variable you'll have to use. It'll be used in select()\n",
        "        self.visited = set() # all \"state\" positions we have seen so far\n",
        "\n",
        "    def getActionProb(self, canonicalBoard, temp=1):\n",
        "        \"\"\"\n",
        "        This function performs numMCTSSims simulations of MCTS starting from\n",
        "        canonicalBoard.\n",
        "\n",
        "        Returns:\n",
        "            probs: a policy vector where the probability of the ith action is\n",
        "                   proportional to Nsa[(s,a)]**(1./temp)\n",
        "        \"\"\"\n",
        "        self.MCTsearch(canonicalBoard)\n",
        "\n",
        "        s = self.game.stringRepresentation(canonicalBoard)\n",
        "        counts = [self.Nsa[(s, a)] if (s, a) in self.Nsa else 0 for a in range(self.game.getActionSize())]\n",
        "\n",
        "        if temp == 0:\n",
        "            bestAs = np.array(np.argwhere(counts == np.max(counts))).flatten()\n",
        "            bestA = np.random.choice(bestAs)\n",
        "            probs = [0] * len(counts)\n",
        "            probs[bestA] = 1\n",
        "            return probs\n",
        "\n",
        "        counts = [x ** (1. / temp) for x in counts]\n",
        "        counts_sum = float(sum(counts))\n",
        "        probs = [x / counts_sum for x in counts]\n",
        "        return probs\n",
        "\n",
        "    def gameEnded(self, canonicalBoard):\n",
        "      \"\"\"\n",
        "      This function determines if the current board position is the end of the game.\n",
        "\n",
        "      Returns:\n",
        "          gameReward: a value that returns 0 if the game hasn't ended, 1 if the player won, -1 if the player lost\n",
        "      \"\"\"\n",
        "\n",
        "      gameReward = self.game.getGameEnded(canonicalBoard, 1)\n",
        "      return gameReward\n",
        "\n",
        "    def predict(self, state, canonicalBoard):\n",
        "        \"\"\"\n",
        "        A wrapper to perform predictions and necessary policy masking for the code to work.\n",
        "        The key idea is to call this function to return an initial policy vector and value from the neural network\n",
        "        instead of needing a rollout\n",
        "\n",
        "        Returns:\n",
        "            r: the reward given by the neural network\n",
        "        \"\"\"\n",
        "        self.Ps[state], val = self.nnet.predict(canonicalBoard)\n",
        "        valids = self.game.getValidMoves(canonicalBoard, 1)\n",
        "        self.Ps[state] = self.Ps[state] * valids\n",
        "        sum_Ps_s = np.sum(self.Ps[state])\n",
        "        if sum_Ps_s > 0:\n",
        "            self.Ps[state] /= sum_Ps_s\n",
        "        else:\n",
        "            log.error(\"All valid moves were masked, doing a workaround.\")\n",
        "            self.Ps[state] = self.Ps[state] + valids\n",
        "            self.Ps[state] /= np.sum(self.Ps[state])\n",
        "\n",
        "        self.Vs[state] = valids\n",
        "        self.Ns[state] = 0\n",
        "        return val\n",
        "\n",
        "    def getValidActions(self, state):\n",
        "        \"\"\"\n",
        "        Generates the valid actions from the avialable actions. Actions are given as a list of integers.\n",
        "        The integers represent which spot in the board to place an Othello disc.\n",
        "        To see a (x, y) representation of an action, you can do \"x, y = (int(action/self.game.n), action%self.game.n)\"\n",
        "\n",
        "        Returns:\n",
        "            validActions: all valid actions you can take in terms of a list of integers\n",
        "        \"\"\"\n",
        "\n",
        "        validActions = []\n",
        "        for action in range(self.game.getActionSize()):\n",
        "            if self.Vs[state][action]:\n",
        "                validActions.append(action)\n",
        "        return validActions\n",
        "\n",
        "    def nextState(self, canonicalBoard, action):\n",
        "        \"\"\"\n",
        "        Gets the next board state given the action\n",
        "\n",
        "        Returns:\n",
        "            nextBoard: the next board state given the action\n",
        "        \"\"\"\n",
        "\n",
        "        nextState, nextPlayer = self.game.getNextState(canonicalBoard, 1, action)\n",
        "        nextState = self.game.getCanonicalForm(nextState, nextPlayer)\n",
        "        return nextState\n",
        "\n",
        "    def getConfidenceVal(self, state, action):\n",
        "        if (state, action) not in self.Qsa:\n",
        "            self.Qsa[(state, action)] = 0\n",
        "            self.Nsa[(state, action)] = 0\n",
        "\n",
        "        u = self.Qsa[(state, action)] + self.args.cpuct * self.Ps[state][action] * math.sqrt(self.Ns[state]) / (\n",
        "                    1 + self.Nsa[(state, action)])\n",
        "\n",
        "        return u\n",
        "\n",
        "    def updateValues(self, r, state, action):\n",
        "        self.Qsa[(state, action)] = (self.Nsa[(state, action)] * self.Qsa[(state, action)] + r) / (self.Nsa[(state, action)] + 1)\n",
        "        self.Nsa[(state, action)] += 1\n",
        "        self.Ns[state] += 1\n",
        "\n",
        "    def expand(self, state):\n",
        "        self.visited.add(state)\n",
        "\n",
        "    def select(self, state, board):\n",
        "        \"\"\"Serves as the select phase of the MCTS algorithm, should return a tuple of (state, board, action, reward)\"\"\"\n",
        "        r = self.gameEnded(board)\n",
        "        # TODO: Handle cases where the reward (r) is not 0 or if\n",
        "        # we have not visited the current state (in this case we should simulate rollouts)\n",
        "\n",
        "        u = np.NINF\n",
        "        bestAction = None\n",
        "        for actionPrime in self.getValidActions(state):\n",
        "\n",
        "            # TODO: Get the upper bound for a confidence value and adjust action accordingly\n",
        "            # remember the goal of this function should be to return the state, board, action of the\n",
        "            # highest value at this state given a set of actions\n",
        "        board = self.nextState(board, bestAction)\n",
        "        state = self.game.stringRepresentation(board)\n",
        "        return state, board, bestAction, 0\n",
        "\n",
        "    def backpropagate(self, seq):\n",
        "        \"\"\"This function uses the seq that you build and maintain in self.MCTsearch\n",
        "        and iterates through it to propagate values into search tree\"\"\"\n",
        "        r = 0 #accumulated, discounted reward\n",
        "        while not seq.empty():\n",
        "            # This method retrieves front of Lifo.Queue and pops, the structure for this tuple should be defined by you\n",
        "            curr_state_tuple = seq.get()\n",
        "            # TODO: Implement the cases for where R is 0 and when R is not 0\n",
        "            # use self.updateValues when updating values in backprop step\n",
        "        return\n",
        "\n",
        "    def simulate(self, state, board):\n",
        "        # TODO: This function should return a reward using self.predict\n",
        "        reward = None # Redefine what r should be\n",
        "        return reward\n",
        "\n",
        "    def MCTsearch(self, start_board):\n",
        "        \"\"\"\n",
        "        This function performs MCTS. The action chosen at each node is one that\n",
        "        has the maximum upper confidence bound.\n",
        "\n",
        "        Once a leaf node is found, the neural network is called to return a\n",
        "        reward r for the state. This value is propagated\n",
        "        up the search path. In case the leaf node is a terminal state, the\n",
        "        outcome is propagated up the search path. The values of Ns, Nsa, Qsa are\n",
        "        updated.\n",
        "\n",
        "        NOTE: the return values are the negative of the reward of the current\n",
        "        state. This is done since r is in [-1,1] and if r is the value of a\n",
        "        state for the current player, then its value is -r for the other player.\n",
        "\n",
        "        Returns:\n",
        "            b0: the initial board state of the othello board\n",
        "        \"\"\"\n",
        "        start_state = self.game.stringRepresentation(start_board)\n",
        "        r = self.gameEnded(start_board)\n",
        "        for _ in range(self.args.numMCTSSims):\n",
        "            state = start_state\n",
        "            board = start_board\n",
        "            sequence = queue.LifoQueue()\n",
        "            r = 0\n",
        "            while r == 0:\n",
        "\n",
        "                # TODO: Use select to search through possible future states, remember that\n",
        "                # select returns a tuple of (state', board', action, r')\n",
        "\n",
        "              # TODO: After our selection process, update the sequence, state variables, and loop variable\n",
        "\n",
        "            # TODO: backpropogate\n",
        "        return start_board\n"
      ]
    },
    {
      "cell_type": "markdown",
      "metadata": {
        "id": "vuEjI-iZe6gH"
      },
      "source": [
        "This section contains the coach class which will be used for training your neural network. In addition, it also sets a seed and runs the actual training process for your model. Furthermore, it also contains hyperparameters that you can change to help your answers in the coding written portion (we advise doing this after receiving full score on Gradescope)."
      ]
    },
    {
      "cell_type": "code",
      "execution_count": null,
      "metadata": {
        "id": "3SIBYrcHhW0c"
      },
      "outputs": [],
      "source": [
        "log = logging.getLogger(__name__)\n",
        "\n",
        "class Coach():\n",
        "    \"\"\"\n",
        "    This class executes the self-play + learning. It uses the functions defined\n",
        "    in Game and NeuralNet. args are specified in main.py.\n",
        "    \"\"\"\n",
        "\n",
        "    def __init__(self, game, nnet, args):\n",
        "        self.game = game\n",
        "        self.nnet = nnet\n",
        "        self.pnet = self.nnet.__class__(self.game)\n",
        "        self.args = args\n",
        "        self.mcts = MCTS(self.game, self.nnet, self.args)\n",
        "        self.trainExamplesHistory = []\n",
        "        self.skipFirstSelfPlay = False\n",
        "\n",
        "        # self.actionsTaken is the variable that keeps track of what actions you take in the selection phase.\n",
        "        # The goal is to make sure this matches the instructor's results\n",
        "        self.actionsTaken = []\n",
        "\n",
        "    def executeEpisode(self):\n",
        "        \"\"\"\n",
        "        This function executes one episode of self-play, starting with player 1.\n",
        "        As the game is played, each turn is added as a training example to\n",
        "        trainExamples. The game is played till the game ends. After the game\n",
        "        ends, the outcome of the game is used to assign values to each example\n",
        "        in trainExamples.\n",
        "        It uses a temp=1 if episodeStep < tempThreshold, and thereafter\n",
        "        uses temp=0.\n",
        "        Returns:\n",
        "            trainExamples: a list of examples of the form (canonicalBoard, currPlayer, pi,v)\n",
        "                           pi is the MCTS informed policy vector, v is +1 if\n",
        "                           the player eventually won the game, else -1.\n",
        "        \"\"\"\n",
        "        trainExamples = []\n",
        "        board = self.game.getInitBoard()\n",
        "        self.curPlayer = 1\n",
        "        episodeStep = 0\n",
        "\n",
        "        while True:\n",
        "            episodeStep += 1\n",
        "            canonicalBoard = self.game.getCanonicalForm(board, self.curPlayer)\n",
        "            temp = int(episodeStep < self.args.tempThreshold)\n",
        "\n",
        "            pi = self.mcts.getActionProb(canonicalBoard, temp=temp)\n",
        "            sym = self.game.getSymmetries(canonicalBoard, pi)\n",
        "            for b, p in sym:\n",
        "                trainExamples.append([b, self.curPlayer, p, None])\n",
        "\n",
        "            # normally the action chosen is random. But we have seeded numpy so it's deterministic\n",
        "            action = np.random.choice(len(pi), p=pi)\n",
        "\n",
        "            # IMPORTANT: this line keeps track of what actions you take in the selection phase\n",
        "            # This is what you'll be graded on in gradescope\n",
        "            move = (int(action/self.game.n), action%self.game.n)\n",
        "            self.actionsTaken[-1].append(move)\n",
        "\n",
        "            board, self.curPlayer = self.game.getNextState(board, self.curPlayer, action)\n",
        "\n",
        "            r = self.game.getGameEnded(board, self.curPlayer)\n",
        "\n",
        "            if r != 0:\n",
        "                return [(x[0], x[2], r * ((-1) ** (x[1] != self.curPlayer))) for x in trainExamples]\n",
        "\n",
        "    def learn(self):\n",
        "        \"\"\"\n",
        "        Performs numIters iterations with numEps episodes of self-play in each\n",
        "        iteration. After every iteration, it retrains neural network with\n",
        "        examples in trainExamples (which has a maximum length of maxlenofQueue).\n",
        "        It then pits the new neural network against the old one and accepts it\n",
        "        only if it wins >= updateThreshold fraction of games.\n",
        "        \"\"\"\n",
        "\n",
        "        for i in range(1, self.args.numIters + 1):\n",
        "            log.info(f'Starting Iter #{i} ...')\n",
        "            # start a new list of actions taken for the next iteration\n",
        "            self.actionsTaken.append([])\n",
        "\n",
        "            if not self.skipFirstSelfPlay or i > 1:\n",
        "                iterationTrainExamples = deque([], maxlen=self.args.maxlenOfQueue)\n",
        "\n",
        "                for _ in tqdm(range(self.args.numEps), desc=\"Self Play\"):\n",
        "                    self.mcts = MCTS(self.game, self.nnet, self.args)\n",
        "                    # the executeEpisode calls will be made here\n",
        "                    iterationTrainExamples += self.executeEpisode()\n",
        "\n",
        "                self.trainExamplesHistory.append(iterationTrainExamples)\n",
        "\n",
        "            if len(self.trainExamplesHistory) > self.args.numItersForTrainExamplesHistory:\n",
        "                log.warning(\n",
        "                    f\"Removing the oldest entry in trainExamples. len(trainExamplesHistory) = {len(self.trainExamplesHistory)}\")\n",
        "                self.trainExamplesHistory.pop(0)\n",
        "            self.saveTrainExamples(i - 1)\n",
        "\n",
        "            trainExamples = []\n",
        "            for e in self.trainExamplesHistory:\n",
        "                trainExamples.extend(e)\n",
        "            shuffle(trainExamples)\n",
        "\n",
        "            self.nnet.save_checkpoint(folder=self.args.checkpoint, filename='temp.pth.tar')\n",
        "            self.pnet.load_checkpoint(folder=self.args.checkpoint, filename='temp.pth.tar')\n",
        "            pmcts = MCTS(self.game, self.pnet, self.args)\n",
        "\n",
        "            self.nnet.train(trainExamples)\n",
        "            nmcts = MCTS(self.game, self.nnet, self.args)\n",
        "\n",
        "            log.info('PITTING AGAINST PREVIOUS VERSION')\n",
        "            arena = Arena(lambda x: np.argmax(pmcts.getActionProb(x, temp=0)),\n",
        "                          lambda x: np.argmax(nmcts.getActionProb(x, temp=0)), self.game)\n",
        "            pwins, nwins, draws = arena.playGames(self.args.arenaCompare)\n",
        "\n",
        "            log.info('NEW/PREV WINS : %d / %d ; DRAWS : %d' % (nwins, pwins, draws))\n",
        "            if pwins + nwins == 0 or float(nwins) / (pwins + nwins) < self.args.updateThreshold:\n",
        "                log.info('REJECTING NEW MODEL')\n",
        "                self.nnet.load_checkpoint(folder=self.args.checkpoint, filename='temp.pth.tar')\n",
        "            else:\n",
        "                log.info('ACCEPTING NEW MODEL')\n",
        "                self.nnet.save_checkpoint(folder=self.args.checkpoint, filename=self.getCheckpointFile(i))\n",
        "                self.nnet.save_checkpoint(folder=self.args.checkpoint, filename='best.pth.tar')\n",
        "\n",
        "    def getCheckpointFile(self, iteration):\n",
        "        return 'checkpoint_' + str(iteration) + '.pth.tar'\n",
        "\n",
        "    def saveTrainExamples(self, iteration):\n",
        "        folder = self.args.checkpoint\n",
        "        if not os.path.exists(folder):\n",
        "            os.makedirs(folder)\n",
        "        filename = os.path.join(folder, self.getCheckpointFile(iteration) + \".examples\")\n",
        "        with open(filename, \"wb+\") as f:\n",
        "            Pickler(f).dump(self.trainExamplesHistory)\n",
        "        f.closed\n",
        "\n",
        "    def loadTrainExamples(self):\n",
        "        modelFile = os.path.join(self.args.load_folder_file[0], self.args.load_folder_file[1])\n",
        "        examplesFile = modelFile + \".examples\"\n",
        "        if not os.path.isfile(examplesFile):\n",
        "            log.warning(f'File \"{examplesFile}\" with trainExamples not found!')\n",
        "            r = input(\"Continue? [y|n]\")\n",
        "            if r != \"y\":\n",
        "                sys.exit()\n",
        "        else:\n",
        "            log.info(\"File with trainExamples found. Loading it...\")\n",
        "            with open(examplesFile, \"rb\") as f:\n",
        "                self.trainExamplesHistory = Unpickler(f).load()\n",
        "            log.info('Loading done!')\n",
        "\n",
        "            self.skipFirstSelfPlay = True\n",
        "seed = 492\n",
        "random.seed(seed)\n",
        "np.random.seed(seed)\n",
        "torch.manual_seed(seed)\n",
        "if torch.cuda.is_available():\n",
        "    torch.cuda.manual_seed_all(seed)\n",
        "\n",
        "log = logging.getLogger(__name__)\n",
        "\n",
        "coloredlogs.install(level='INFO')  # Change this to DEBUG to see more info.\n",
        "\n",
        "# the hyperparameters you should change are numIters and numEps to help answer\n",
        "# the coding conceptual questions\n",
        "args = dotdict({\n",
        "    'numIters': 1,\n",
        "    'numEps': 2,              # Number of complete self-play games to simulate during a new iteration.\n",
        "    'tempThreshold': 15,\n",
        "    'updateThreshold': 0.6,     # During arena playoff, new neural net will be accepted if threshold or more of games are won.\n",
        "    'maxlenOfQueue': 200000,    # Number of game examples to train the neural networks.\n",
        "    'numMCTSSims': 5,          # Number of games moves for MCTS to simulate.\n",
        "    'arenaCompare': 25,         # Number of games to play during arena play to determine if new net will be accepted.\n",
        "    'cpuct': 1,\n",
        "\n",
        "    'checkpoint': './temp/',\n",
        "    'load_model': False,\n",
        "    'load_folder_file': ('/dev/models/8x100x50','best.pth.tar'),\n",
        "    'numItersForTrainExamplesHistory': 20,\n",
        "\n",
        "})\n",
        "\n",
        "log.info('Loading %s...', Game.__name__)\n",
        "g = Game(6)\n",
        "\n",
        "log.info('Loading %s...', nn.__name__)\n",
        "nnet = nn(g)\n",
        "\n",
        "if args.load_model:\n",
        "    log.info('Loading checkpoint \"%s/%s\"...', args.load_folder_file[0], args.load_folder_file[1])\n",
        "    nnet.load_checkpoint(args.load_folder_file[0], args.load_folder_file[1])\n",
        "else:\n",
        "    log.warning('Not loading a checkpoint!')\n",
        "\n",
        "log.info('Loading the Coach...')\n",
        "c = Coach(g, nnet, args)\n",
        "\n",
        "if args.load_model:\n",
        "    log.info(\"Loading 'trainExamples' from file...\")\n",
        "    c.loadTrainExamples()\n",
        "\n",
        "log.info('Loading %s...', Game.__name__)\n",
        "g = Game(6)\n",
        "\n",
        "log.info('Loading %s...', nn.__name__)\n",
        "nnet = nn(g)\n",
        "\n",
        "if args.load_model:\n",
        "    log.info('Loading checkpoint \"%s/%s\"...', args.load_folder_file[0], args.load_folder_file[1])\n",
        "    nnet.load_checkpoint(args.load_folder_file[0], args.load_folder_file[1])\n",
        "else:\n",
        "    log.warning('Not loading a checkpoint!')\n",
        "\n",
        "log.info('Loading the Coach...')\n",
        "# c = Coach(g, nnet, args)\n",
        "\n",
        "if args.load_model:\n",
        "    log.info(\"Loading 'trainExamples' from file...\")\n",
        "    c.loadTrainExamples()\n",
        "log.info('Starting the learning process 🎉')\n",
        "c.learn()"
      ]
    },
    {
      "cell_type": "markdown",
      "metadata": {
        "id": "f5gQTyB_J6Vz"
      },
      "source": [
        "Once the algorithm is done training, print out the actions the algorithm took in the selection phase of MCTS. The output from this should match the instructor's."
      ]
    },
    {
      "cell_type": "code",
      "execution_count": null,
      "metadata": {
        "id": "40deypyv5YA1"
      },
      "outputs": [],
      "source": [
        "instrResults = [[(2, 1), (3, 1), (4, 2), (5, 1), (4, 1), (3, 0), (4, 0), (1, 1), (1, 3), (1, 2), (0, 1), (1, 0), (5, 2), (0, 3), (2, 0), (0, 0), (2, 4), (0, 2), (0, 4), (1, 5), (2, 5), (5, 3), (4, 4), (3, 4), (0, 5), (1, 4), (3, 5), (4, 5), (5, 5), (5, 4), (5, 0), (4, 3), (3, 4), (2, 4), (1, 2), (2, 1), (3, 0), (4, 4), (3, 5), (4, 1), (1, 3), (2, 0), (3, 1), (2, 5), (5, 2), (0, 3), (0, 4), (4, 0), (5, 4), (0, 5), (0, 2), (4, 2), (1, 4), (4, 5), (1, 0), (1, 5), (5, 0), (1, 1), (0, 1), (5, 3), (4, 3), (0, 0), (5, 5), (5, 1)]]\n",
        "print(c.actionsTaken)\n",
        "print(\"Your actions match the instructor's:\", instrResults == c.actionsTaken)"
      ]
    },
    {
      "cell_type": "markdown",
      "metadata": {
        "id": "J_2q3n5pWd9U"
      },
      "source": [
        "Below is a visualization of the actions you took in the first iteration of the model. Feel free to run it if you want to see how your algorithm did! Modify if you want to run a different iteration (only applies if you changed the hyperparamers)."
      ]
    },
    {
      "cell_type": "code",
      "execution_count": null,
      "metadata": {
        "id": "RPKSLP09Peb9"
      },
      "outputs": [],
      "source": [
        "iteration = 0\n",
        "board = g.getInitBoard()\n",
        "\n",
        "g.display(board)\n",
        "for i, move in enumerate(c.actionsTaken[iteration]):\n",
        "  # converts (x, y) to an action the game understands\n",
        "  action = move[0]*g.n + move[1]\n",
        "  board = g.getNextState(board, 1 if i % 2 == 0 else -1, action)[0]\n",
        "\n",
        "  time.sleep(2)\n",
        "  clear_output(wait=False)\n",
        "  g.display(board)\n",
        "\n",
        "print(\"game finished!\")"
      ]
    },
    {
      "cell_type": "markdown",
      "metadata": {
        "id": "MAswZ0QJzFrS"
      },
      "source": [
        "**Coding Written Section Responses: **"
      ]
    },
    {
      "cell_type": "markdown",
      "metadata": {
        "id": "qxQVhT_Sy1te"
      },
      "source": [
        "Answer to Q1 of Coding Written Portion:\n",
        "\n",
        "(Type your answer in this block)"
      ]
    },
    {
      "cell_type": "markdown",
      "metadata": {
        "id": "esLEicIMy_fK"
      },
      "source": [
        "Answer to Q2 of Coding Written Portion:\n",
        "\n",
        "(Type your answer in this block)"
      ]
    }
  ],
  "metadata": {
    "colab": {
      "provenance": [],
      "include_colab_link": true
    },
    "kernelspec": {
      "display_name": "Python 3",
      "name": "python3"
    },
    "language_info": {
      "name": "python"
    }
  },
  "nbformat": 4,
  "nbformat_minor": 0
}